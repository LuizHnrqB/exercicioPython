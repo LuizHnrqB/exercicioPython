{
 "cells": [
  {
   "cell_type": "markdown",
   "metadata": {},
   "source": [
    "# Exercícios"
   ]
  },
  {
   "cell_type": "markdown",
   "metadata": {},
   "source": [
    "1. Escreva um algoritmo que imprima na tela: Olá Mundo!"
   ]
  },
  {
   "cell_type": "code",
   "execution_count": 2,
   "metadata": {},
   "outputs": [
    {
     "name": "stdout",
     "output_type": "stream",
     "text": [
      "Hello World\n"
     ]
    }
   ],
   "source": [
    "print(\"Hello World\")"
   ]
  },
  {
   "cell_type": "markdown",
   "metadata": {},
   "source": [
    "2. Escreva um programa que imprima seu nome na tela."
   ]
  },
  {
   "cell_type": "code",
   "execution_count": 5,
   "metadata": {},
   "outputs": [
    {
     "name": "stdout",
     "output_type": "stream",
     "text": [
      "Digite seu nome\n"
     ]
    },
    {
     "ename": "KeyboardInterrupt",
     "evalue": "Interrupted by user",
     "output_type": "error",
     "traceback": [
      "\u001b[1;31m---------------------------------------------------------------------------\u001b[0m",
      "\u001b[1;31mKeyboardInterrupt\u001b[0m                         Traceback (most recent call last)",
      "\u001b[1;32mf:\\ProjetosProg\\pitao\\analise-dados-master\\Python\\exercicios-python.ipynb Cell 5'\u001b[0m in \u001b[0;36m<cell line: 2>\u001b[1;34m()\u001b[0m\n\u001b[0;32m      <a href='vscode-notebook-cell:/f%3A/ProjetosProg/pitao/analise-dados-master/Python/exercicios-python.ipynb#ch0000004?line=0'>1</a>\u001b[0m \u001b[39mprint\u001b[39m(\u001b[39m\"\u001b[39m\u001b[39mDigite seu nome\u001b[39m\u001b[39m\"\u001b[39m)\n\u001b[1;32m----> <a href='vscode-notebook-cell:/f%3A/ProjetosProg/pitao/analise-dados-master/Python/exercicios-python.ipynb#ch0000004?line=1'>2</a>\u001b[0m nome \u001b[39m=\u001b[39m \u001b[39minput\u001b[39;49m()\n\u001b[0;32m      <a href='vscode-notebook-cell:/f%3A/ProjetosProg/pitao/analise-dados-master/Python/exercicios-python.ipynb#ch0000004?line=2'>3</a>\u001b[0m \u001b[39mprint\u001b[39m(nome)\n",
      "File \u001b[1;32m~\\AppData\\Roaming\\Python\\Python310\\site-packages\\ipykernel\\kernelbase.py:1076\u001b[0m, in \u001b[0;36mKernel.raw_input\u001b[1;34m(self, prompt)\u001b[0m\n\u001b[0;32m   <a href='file:///c%3A/Users/Luizh/AppData/Roaming/Python/Python310/site-packages/ipykernel/kernelbase.py?line=1071'>1072</a>\u001b[0m \u001b[39mif\u001b[39;00m \u001b[39mnot\u001b[39;00m \u001b[39mself\u001b[39m\u001b[39m.\u001b[39m_allow_stdin:\n\u001b[0;32m   <a href='file:///c%3A/Users/Luizh/AppData/Roaming/Python/Python310/site-packages/ipykernel/kernelbase.py?line=1072'>1073</a>\u001b[0m     \u001b[39mraise\u001b[39;00m StdinNotImplementedError(\n\u001b[0;32m   <a href='file:///c%3A/Users/Luizh/AppData/Roaming/Python/Python310/site-packages/ipykernel/kernelbase.py?line=1073'>1074</a>\u001b[0m         \u001b[39m\"\u001b[39m\u001b[39mraw_input was called, but this frontend does not support input requests.\u001b[39m\u001b[39m\"\u001b[39m\n\u001b[0;32m   <a href='file:///c%3A/Users/Luizh/AppData/Roaming/Python/Python310/site-packages/ipykernel/kernelbase.py?line=1074'>1075</a>\u001b[0m     )\n\u001b[1;32m-> <a href='file:///c%3A/Users/Luizh/AppData/Roaming/Python/Python310/site-packages/ipykernel/kernelbase.py?line=1075'>1076</a>\u001b[0m \u001b[39mreturn\u001b[39;00m \u001b[39mself\u001b[39;49m\u001b[39m.\u001b[39;49m_input_request(\n\u001b[0;32m   <a href='file:///c%3A/Users/Luizh/AppData/Roaming/Python/Python310/site-packages/ipykernel/kernelbase.py?line=1076'>1077</a>\u001b[0m     \u001b[39mstr\u001b[39;49m(prompt),\n\u001b[0;32m   <a href='file:///c%3A/Users/Luizh/AppData/Roaming/Python/Python310/site-packages/ipykernel/kernelbase.py?line=1077'>1078</a>\u001b[0m     \u001b[39mself\u001b[39;49m\u001b[39m.\u001b[39;49m_parent_ident[\u001b[39m\"\u001b[39;49m\u001b[39mshell\u001b[39;49m\u001b[39m\"\u001b[39;49m],\n\u001b[0;32m   <a href='file:///c%3A/Users/Luizh/AppData/Roaming/Python/Python310/site-packages/ipykernel/kernelbase.py?line=1078'>1079</a>\u001b[0m     \u001b[39mself\u001b[39;49m\u001b[39m.\u001b[39;49mget_parent(\u001b[39m\"\u001b[39;49m\u001b[39mshell\u001b[39;49m\u001b[39m\"\u001b[39;49m),\n\u001b[0;32m   <a href='file:///c%3A/Users/Luizh/AppData/Roaming/Python/Python310/site-packages/ipykernel/kernelbase.py?line=1079'>1080</a>\u001b[0m     password\u001b[39m=\u001b[39;49m\u001b[39mFalse\u001b[39;49;00m,\n\u001b[0;32m   <a href='file:///c%3A/Users/Luizh/AppData/Roaming/Python/Python310/site-packages/ipykernel/kernelbase.py?line=1080'>1081</a>\u001b[0m )\n",
      "File \u001b[1;32m~\\AppData\\Roaming\\Python\\Python310\\site-packages\\ipykernel\\kernelbase.py:1121\u001b[0m, in \u001b[0;36mKernel._input_request\u001b[1;34m(self, prompt, ident, parent, password)\u001b[0m\n\u001b[0;32m   <a href='file:///c%3A/Users/Luizh/AppData/Roaming/Python/Python310/site-packages/ipykernel/kernelbase.py?line=1117'>1118</a>\u001b[0m             \u001b[39mbreak\u001b[39;00m\n\u001b[0;32m   <a href='file:///c%3A/Users/Luizh/AppData/Roaming/Python/Python310/site-packages/ipykernel/kernelbase.py?line=1118'>1119</a>\u001b[0m \u001b[39mexcept\u001b[39;00m \u001b[39mKeyboardInterrupt\u001b[39;00m:\n\u001b[0;32m   <a href='file:///c%3A/Users/Luizh/AppData/Roaming/Python/Python310/site-packages/ipykernel/kernelbase.py?line=1119'>1120</a>\u001b[0m     \u001b[39m# re-raise KeyboardInterrupt, to truncate traceback\u001b[39;00m\n\u001b[1;32m-> <a href='file:///c%3A/Users/Luizh/AppData/Roaming/Python/Python310/site-packages/ipykernel/kernelbase.py?line=1120'>1121</a>\u001b[0m     \u001b[39mraise\u001b[39;00m \u001b[39mKeyboardInterrupt\u001b[39;00m(\u001b[39m\"\u001b[39m\u001b[39mInterrupted by user\u001b[39m\u001b[39m\"\u001b[39m) \u001b[39mfrom\u001b[39;00m \u001b[39mNone\u001b[39m\n\u001b[0;32m   <a href='file:///c%3A/Users/Luizh/AppData/Roaming/Python/Python310/site-packages/ipykernel/kernelbase.py?line=1121'>1122</a>\u001b[0m \u001b[39mexcept\u001b[39;00m \u001b[39mException\u001b[39;00m:\n\u001b[0;32m   <a href='file:///c%3A/Users/Luizh/AppData/Roaming/Python/Python310/site-packages/ipykernel/kernelbase.py?line=1122'>1123</a>\u001b[0m     \u001b[39mself\u001b[39m\u001b[39m.\u001b[39mlog\u001b[39m.\u001b[39mwarning(\u001b[39m\"\u001b[39m\u001b[39mInvalid Message:\u001b[39m\u001b[39m\"\u001b[39m, exc_info\u001b[39m=\u001b[39m\u001b[39mTrue\u001b[39;00m)\n",
      "\u001b[1;31mKeyboardInterrupt\u001b[0m: Interrupted by user"
     ]
    }
   ],
   "source": [
    "print(\"Digite seu nome\")\n",
    "nome = input()\n",
    "print(nome)"
   ]
  },
  {
   "cell_type": "markdown",
   "metadata": {},
   "source": [
    "3. O que o código a seguir imprime?\n",
    "\n",
    "```python\n",
    "print(\"*\\n**\\n***\\n****\\n*****\")\n",
    "```"
   ]
  },
  {
   "cell_type": "code",
   "execution_count": null,
   "metadata": {},
   "outputs": [],
   "source": [
    "*\n",
    "**\n",
    "***\n",
    "****\n",
    "*****"
   ]
  },
  {
   "cell_type": "markdown",
   "metadata": {},
   "source": [
    "4. O que aparece na janela do console, quando cada uma das instruções abaixo são executadas, para: x = 2 e y = 3? Execute cada uma das linhas abaixos e, se necessário, faça os devidos ajustes no código.\n",
    "    1. *print(“x = ” + x);*\n",
    "    2. *print(“O valor de x + x é ” + (x + x));*\n",
    "    3. *print(“x = ”);*\n",
    "    4. *print((x + y) + “ = “ + (y + x));*\n"
   ]
  },
  {
   "cell_type": "code",
   "execution_count": null,
   "metadata": {},
   "outputs": [],
   "source": [
    "1: x=2 ( Sintaxe: print(\"x= \", x))\n",
    "2: O valor de x+x é 4 ( Sintaxe: print(\"O valor de X + X é \", (x+x)))\n",
    "3: x= (Sintaxe: print(\"x=\"))\n",
    "4: 5 = 5 (Sintaxe: print((x+y), \"=\",(y+x)))\n"
   ]
  },
  {
   "cell_type": "markdown",
   "metadata": {},
   "source": [
    "5. Escreva um algoritmo que imprima na tela a seguinte mensagem:\n",
    "\n",
    "> A programação é aprendida escrevendo programas - \n",
    "> Brian Kernighan\n"
   ]
  },
  {
   "cell_type": "code",
   "execution_count": null,
   "metadata": {},
   "outputs": [],
   "source": [
    "print(A programação é aprendida escrevendo programas - Brian Kernighan)"
   ]
  },
  {
   "cell_type": "markdown",
   "metadata": {},
   "source": [
    "6. Crie um algoritmo que imprima o produto entre os números 25 e 27"
   ]
  },
  {
   "cell_type": "code",
   "execution_count": 7,
   "metadata": {},
   "outputs": [
    {
     "name": "stdout",
     "output_type": "stream",
     "text": [
      "675\n"
     ]
    }
   ],
   "source": [
    "num1 = 25\n",
    "num2 = 27\n",
    "\n",
    "produto = num1*num2\n",
    "\n",
    "print(produto)"
   ]
  },
  {
   "cell_type": "markdown",
   "metadata": {},
   "source": [
    "7. Crie um algoritmo que imprima a média aritmética entre os números 4, 12, 15."
   ]
  },
  {
   "cell_type": "code",
   "execution_count": 6,
   "metadata": {},
   "outputs": [
    {
     "name": "stdout",
     "output_type": "stream",
     "text": [
      "A soma dos três valores é 31 . Tendo a média de  10.3\n"
     ]
    }
   ],
   "source": [
    "num1 = 4\n",
    "num2 = 12\n",
    "num3 = 15\n",
    "\n",
    "soma = num1+num2+num3\n",
    "media = \"{:.1f}\".format(soma/3)\n",
    "\n",
    "print(\"A soma dos três valores é\",soma,\". Tendo a média de \",media)"
   ]
  },
  {
   "cell_type": "markdown",
   "metadata": {},
   "source": [
    "8. Faça um programa que leia um número inteiro e mostre-o na tela da seguinte forma: \n",
    "\n",
    "> O número inteiro digitado foi 4."
   ]
  },
  {
   "cell_type": "code",
   "execution_count": null,
   "metadata": {},
   "outputs": [],
   "source": [
    "Num = int(input())\n",
    "\n",
    "print(\"O número inteiro digitado foi \",Num)"
   ]
  },
  {
   "cell_type": "markdown",
   "metadata": {},
   "source": [
    "9. Faça um programa que leia e imprima dois números inteiros na tela."
   ]
  },
  {
   "cell_type": "code",
   "execution_count": null,
   "metadata": {},
   "outputs": [],
   "source": [
    "Num1 = int(input())\n",
    "Num2 = int(input())\n",
    "\n",
    "print(\"Os números inteiros digitados foram \",Num1,\",\",Num2)"
   ]
  },
  {
   "cell_type": "markdown",
   "metadata": {},
   "source": [
    "10. Faça um programa que leia um número inteiro e imprima seu número sucessor e antecessor."
   ]
  },
  {
   "cell_type": "code",
   "execution_count": 1,
   "metadata": {},
   "outputs": [
    {
     "ename": "KeyboardInterrupt",
     "evalue": "Interrupted by user",
     "output_type": "error",
     "traceback": [
      "\u001b[1;31m---------------------------------------------------------------------------\u001b[0m",
      "\u001b[1;31mKeyboardInterrupt\u001b[0m                         Traceback (most recent call last)",
      "\u001b[1;32mf:\\ProjetosProg\\pitao\\analise-dados-master\\Python\\exercicios-python.ipynb Cell 21'\u001b[0m in \u001b[0;36m<cell line: 1>\u001b[1;34m()\u001b[0m\n\u001b[1;32m----> <a href='vscode-notebook-cell:/f%3A/ProjetosProg/pitao/analise-dados-master/Python/exercicios-python.ipynb#ch0000020?line=0'>1</a>\u001b[0m Num1 \u001b[39m=\u001b[39m \u001b[39mint\u001b[39m(\u001b[39minput\u001b[39;49m())\n\u001b[0;32m      <a href='vscode-notebook-cell:/f%3A/ProjetosProg/pitao/analise-dados-master/Python/exercicios-python.ipynb#ch0000020?line=1'>2</a>\u001b[0m antecessor \u001b[39m=\u001b[39m (Num1\u001b[39m-\u001b[39m\u001b[39m1\u001b[39m)\n\u001b[0;32m      <a href='vscode-notebook-cell:/f%3A/ProjetosProg/pitao/analise-dados-master/Python/exercicios-python.ipynb#ch0000020?line=2'>3</a>\u001b[0m proxim \u001b[39m=\u001b[39m (Num1\u001b[39m+\u001b[39m\u001b[39m1\u001b[39m)\n",
      "File \u001b[1;32m~\\AppData\\Roaming\\Python\\Python310\\site-packages\\ipykernel\\kernelbase.py:1076\u001b[0m, in \u001b[0;36mKernel.raw_input\u001b[1;34m(self, prompt)\u001b[0m\n\u001b[0;32m   <a href='file:///c%3A/Users/Luizh/AppData/Roaming/Python/Python310/site-packages/ipykernel/kernelbase.py?line=1071'>1072</a>\u001b[0m \u001b[39mif\u001b[39;00m \u001b[39mnot\u001b[39;00m \u001b[39mself\u001b[39m\u001b[39m.\u001b[39m_allow_stdin:\n\u001b[0;32m   <a href='file:///c%3A/Users/Luizh/AppData/Roaming/Python/Python310/site-packages/ipykernel/kernelbase.py?line=1072'>1073</a>\u001b[0m     \u001b[39mraise\u001b[39;00m StdinNotImplementedError(\n\u001b[0;32m   <a href='file:///c%3A/Users/Luizh/AppData/Roaming/Python/Python310/site-packages/ipykernel/kernelbase.py?line=1073'>1074</a>\u001b[0m         \u001b[39m\"\u001b[39m\u001b[39mraw_input was called, but this frontend does not support input requests.\u001b[39m\u001b[39m\"\u001b[39m\n\u001b[0;32m   <a href='file:///c%3A/Users/Luizh/AppData/Roaming/Python/Python310/site-packages/ipykernel/kernelbase.py?line=1074'>1075</a>\u001b[0m     )\n\u001b[1;32m-> <a href='file:///c%3A/Users/Luizh/AppData/Roaming/Python/Python310/site-packages/ipykernel/kernelbase.py?line=1075'>1076</a>\u001b[0m \u001b[39mreturn\u001b[39;00m \u001b[39mself\u001b[39;49m\u001b[39m.\u001b[39;49m_input_request(\n\u001b[0;32m   <a href='file:///c%3A/Users/Luizh/AppData/Roaming/Python/Python310/site-packages/ipykernel/kernelbase.py?line=1076'>1077</a>\u001b[0m     \u001b[39mstr\u001b[39;49m(prompt),\n\u001b[0;32m   <a href='file:///c%3A/Users/Luizh/AppData/Roaming/Python/Python310/site-packages/ipykernel/kernelbase.py?line=1077'>1078</a>\u001b[0m     \u001b[39mself\u001b[39;49m\u001b[39m.\u001b[39;49m_parent_ident[\u001b[39m\"\u001b[39;49m\u001b[39mshell\u001b[39;49m\u001b[39m\"\u001b[39;49m],\n\u001b[0;32m   <a href='file:///c%3A/Users/Luizh/AppData/Roaming/Python/Python310/site-packages/ipykernel/kernelbase.py?line=1078'>1079</a>\u001b[0m     \u001b[39mself\u001b[39;49m\u001b[39m.\u001b[39;49mget_parent(\u001b[39m\"\u001b[39;49m\u001b[39mshell\u001b[39;49m\u001b[39m\"\u001b[39;49m),\n\u001b[0;32m   <a href='file:///c%3A/Users/Luizh/AppData/Roaming/Python/Python310/site-packages/ipykernel/kernelbase.py?line=1079'>1080</a>\u001b[0m     password\u001b[39m=\u001b[39;49m\u001b[39mFalse\u001b[39;49;00m,\n\u001b[0;32m   <a href='file:///c%3A/Users/Luizh/AppData/Roaming/Python/Python310/site-packages/ipykernel/kernelbase.py?line=1080'>1081</a>\u001b[0m )\n",
      "File \u001b[1;32m~\\AppData\\Roaming\\Python\\Python310\\site-packages\\ipykernel\\kernelbase.py:1121\u001b[0m, in \u001b[0;36mKernel._input_request\u001b[1;34m(self, prompt, ident, parent, password)\u001b[0m\n\u001b[0;32m   <a href='file:///c%3A/Users/Luizh/AppData/Roaming/Python/Python310/site-packages/ipykernel/kernelbase.py?line=1117'>1118</a>\u001b[0m             \u001b[39mbreak\u001b[39;00m\n\u001b[0;32m   <a href='file:///c%3A/Users/Luizh/AppData/Roaming/Python/Python310/site-packages/ipykernel/kernelbase.py?line=1118'>1119</a>\u001b[0m \u001b[39mexcept\u001b[39;00m \u001b[39mKeyboardInterrupt\u001b[39;00m:\n\u001b[0;32m   <a href='file:///c%3A/Users/Luizh/AppData/Roaming/Python/Python310/site-packages/ipykernel/kernelbase.py?line=1119'>1120</a>\u001b[0m     \u001b[39m# re-raise KeyboardInterrupt, to truncate traceback\u001b[39;00m\n\u001b[1;32m-> <a href='file:///c%3A/Users/Luizh/AppData/Roaming/Python/Python310/site-packages/ipykernel/kernelbase.py?line=1120'>1121</a>\u001b[0m     \u001b[39mraise\u001b[39;00m \u001b[39mKeyboardInterrupt\u001b[39;00m(\u001b[39m\"\u001b[39m\u001b[39mInterrupted by user\u001b[39m\u001b[39m\"\u001b[39m) \u001b[39mfrom\u001b[39;00m \u001b[39mNone\u001b[39m\n\u001b[0;32m   <a href='file:///c%3A/Users/Luizh/AppData/Roaming/Python/Python310/site-packages/ipykernel/kernelbase.py?line=1121'>1122</a>\u001b[0m \u001b[39mexcept\u001b[39;00m \u001b[39mException\u001b[39;00m:\n\u001b[0;32m   <a href='file:///c%3A/Users/Luizh/AppData/Roaming/Python/Python310/site-packages/ipykernel/kernelbase.py?line=1122'>1123</a>\u001b[0m     \u001b[39mself\u001b[39m\u001b[39m.\u001b[39mlog\u001b[39m.\u001b[39mwarning(\u001b[39m\"\u001b[39m\u001b[39mInvalid Message:\u001b[39m\u001b[39m\"\u001b[39m, exc_info\u001b[39m=\u001b[39m\u001b[39mTrue\u001b[39;00m)\n",
      "\u001b[1;31mKeyboardInterrupt\u001b[0m: Interrupted by user"
     ]
    }
   ],
   "source": [
    "Num1 = int(input())\n",
    "antecessor = (Num1-1)\n",
    "proxim = (Num1+1)\n",
    "\n",
    "print(\"O número digitado foi: \",Num1,\". O número anterior a ele é o: \",antecessor, \". E o número sucessor é o:\",proxim)"
   ]
  },
  {
   "cell_type": "markdown",
   "metadata": {},
   "source": [
    "11. Faça um programa que leia o nome, endereço e telefone de um usuário e imprima na tela."
   ]
  },
  {
   "cell_type": "code",
   "execution_count": null,
   "metadata": {},
   "outputs": [],
   "source": [
    "print(\"Digite seu nome:\")\n",
    "nome = input()\n",
    "print(\"Digite seu endereço\")\n",
    "endereco = input()\n",
    "print (\"Digite seu Telefone\")\n",
    "num = input ()\n",
    "\n",
    "print(\"Olá\",nome,\"\\nQue mora em \",endereco,\"\\nE tem o telefone:\",num)"
   ]
  },
  {
   "cell_type": "markdown",
   "metadata": {},
   "source": [
    "12. Faça um programa que leia e multiplique dois números inteiros."
   ]
  },
  {
   "cell_type": "code",
   "execution_count": null,
   "metadata": {},
   "outputs": [],
   "source": [
    "num1 = int(input())\n",
    "num2 = int(input())\n",
    "\n",
    "multi=num1*num2\n",
    "\n",
    "print(multi)"
   ]
  },
  {
   "cell_type": "markdown",
   "metadata": {},
   "source": [
    "13. Faça um programa que leia um número real e imprima a terça parte deste número."
   ]
  },
  {
   "cell_type": "code",
   "execution_count": null,
   "metadata": {},
   "outputs": [],
   "source": [
    "num1 = int(input())\n",
    "\n",
    "tercaparte = num1/3\n",
    "\n",
    "print(tercaparte)\n"
   ]
  },
  {
   "cell_type": "markdown",
   "metadata": {},
   "source": [
    "14. Faça um programa que leia dois números inteiros e imprima o dividendo, divisor, quociente e resto da divisão"
   ]
  },
  {
   "cell_type": "code",
   "execution_count": null,
   "metadata": {},
   "outputs": [],
   "source": [
    "dividendo = int(input())\n",
    "divisor = int(input())\n",
    "\n",
    "quociente = dividendo/divisor\n",
    "resto = dividendo%divisor\n",
    "\n",
    "print(\"dividendo\",dividendo)\n",
    "\n",
    "print(\"divisor\",divisor)\n",
    "\n",
    "print(\"quociente\",quociente)\n",
    "\n",
    "print(\"resto\",resto)"
   ]
  },
  {
   "cell_type": "markdown",
   "metadata": {},
   "source": [
    "15. Escreva um programa que solicite do usuário dois números, e imprima o resultado da soma, subtração, multiplicação e divisão."
   ]
  },
  {
   "cell_type": "code",
   "execution_count": null,
   "metadata": {},
   "outputs": [],
   "source": [
    "num1 = int(input())\n",
    "num2 = int(input())\n",
    "\n",
    "soma = num1+num2\n",
    "sub = num1-num2\n",
    "multi=num1*num2\n",
    "divi=num1/num2\n",
    "\n",
    "print(\"soma = \",soma)\n",
    "print(\"subtração =\", sub)\n",
    "print(\"multiplicação = \", multi)\n",
    "print(\"divisão = \",divi)"
   ]
  },
  {
   "cell_type": "markdown",
   "metadata": {},
   "source": [
    "16. Faça um programa que leia quatro números inteiros, calcule e mostre a soma desses números."
   ]
  },
  {
   "cell_type": "code",
   "execution_count": null,
   "metadata": {},
   "outputs": [],
   "source": [
    "num1 = int(input())\n",
    "num2 = int(input())\n",
    "num3 = int(input())\n",
    "num4 = int(input())\n",
    "\n",
    "soma = num1+num2+num3+num4\n",
    "\n",
    "print(\"A soma é:\",soma)"
   ]
  },
  {
   "cell_type": "markdown",
   "metadata": {},
   "source": [
    "17. Faça um programa que receba três notas, calcule e mostre a média aritmética."
   ]
  },
  {
   "cell_type": "code",
   "execution_count": null,
   "metadata": {},
   "outputs": [],
   "source": [
    "nota1 = int(input())\n",
    "nota2 = int(input())\n",
    "nota3 = int(input())\n",
    "\n",
    "\n",
    "soma = nota1+nota2+nota3\n",
    "media = soma/3\n",
    "\n",
    "print(\"A soma é:\",soma)\n",
    "print(\"A média é:\", media)"
   ]
  },
  {
   "cell_type": "markdown",
   "metadata": {},
   "source": [
    "18. Faça um programa que receba três notas e seus respectivos pesos, calcule e mostre a média ponderada."
   ]
  },
  {
   "cell_type": "code",
   "execution_count": null,
   "metadata": {},
   "outputs": [],
   "source": [
    "nota1 = int(input())\n",
    "nota2 = int(input())\n",
    "nota3 = int(input())\n",
    "\n",
    "peso1=1\n",
    "peso2=2\n",
    "peso3=3\n",
    "\n",
    "nota1pond = nota1*peso3\n",
    "nota2pond = nota2*peso1\n",
    "nota3pond = nota3*peso2\n",
    "\n",
    "soma = nota1pond+nota2pond+nota3pond \n",
    "\n",
    "pesoGeral = peso1+peso2+peso3\n",
    "\n",
    "\n",
    "mediapond = soma/pesoGeral\n",
    "\n",
    "print(\"A soma é:\",soma)\n",
    "print(\"A média é:\", mediapond)"
   ]
  },
  {
   "cell_type": "markdown",
   "metadata": {},
   "source": [
    "19. Faça um programa que receba o salário de um funcionário, calcule e mostre o novo salário, sabendo-se que este sofreu um aumento de 25%."
   ]
  },
  {
   "cell_type": "code",
   "execution_count": null,
   "metadata": {},
   "outputs": [],
   "source": [
    "salario = int(input())\n",
    "\n",
    "aumento = 0.25\n",
    "\n",
    "salarioNovo = salario*(1+aumento) \n",
    "\n",
    "print(\"O salário era:\", salario,\". Com o aumento de 25%, agora é:\",salarioNovo)"
   ]
  },
  {
   "cell_type": "markdown",
   "metadata": {},
   "source": [
    "20. Faça um programa que receba o salário de um funcionário e o percentual de aumento, calcule e mostre o valor do aumento e o novo salário. "
   ]
  },
  {
   "cell_type": "code",
   "execution_count": null,
   "metadata": {},
   "outputs": [],
   "source": [
    "salario = int(input())\n",
    "aumento = int(input())\n",
    "\n",
    "aumentopercent = aumento/100\n",
    "\n",
    "salarioNovo = salario*(1+aumentopercent) \n",
    "\n",
    "print(\"O salário era:\", salario,\". Com o aumento de \",aumento,\"%, agora é:\",salarioNovo)"
   ]
  },
  {
   "cell_type": "markdown",
   "metadata": {},
   "source": [
    "21.  Faça um programa que calcule e mostre a área de um triângulo. Sabe-se que: \n",
    "> Área = (base * altura) / 2."
   ]
  },
  {
   "cell_type": "code",
   "execution_count": null,
   "metadata": {},
   "outputs": [],
   "source": [
    "base = int(input())\n",
    "altura = int(input())\n",
    "\n",
    "area = (base*altura)/2\n",
    "\n",
    "\n",
    "\n",
    "print(\"A área do triangulo de base\",base,\" e altura\",altura,\"é de:\",area)"
   ]
  },
  {
   "cell_type": "markdown",
   "metadata": {},
   "source": [
    "22. Escreva um programa que receba como entrada o raio de um círculo e imprima o diâmetro, a circunferência e a área. Para isso, utilize as fórmulas: diâmetro = 2r; circunferência = 2πr, área = πr²."
   ]
  },
  {
   "cell_type": "code",
   "execution_count": null,
   "metadata": {},
   "outputs": [],
   "source": [
    "raio = int(input())\n",
    "\n",
    "pi = 3.14\n",
    "\n",
    "diam = 2*raio\n",
    "circ = 2*(pi*raio)\n",
    "area = (raio**2)*pi\n",
    "\n",
    "\n",
    "print(\"Dado um ciruclo de raio:\",raio)\n",
    "print(\"A area é:\",area)\n",
    "print(\"A circunferencia é:\",circ)\n",
    "print(\"O diametro é:\",diam)\n"
   ]
  },
  {
   "cell_type": "markdown",
   "metadata": {},
   "source": [
    "23. Faça um programa que receba um número positivo e maior que zero, calcule e mostre:\n",
    "    1. o número digitado ao quadrado;\n",
    "    2. o número digitado ao cubo;\n",
    "    3. a raiz quadrada do número digitado."
   ]
  },
  {
   "cell_type": "code",
   "execution_count": null,
   "metadata": {},
   "outputs": [],
   "source": [
    "import math\n",
    "\n",
    "num = int(input())\n",
    "\n",
    "numQuad = num**2\n",
    "numCub = num**3\n",
    "numRaiz = math.sqrt(num)\n",
    "\n",
    "print(\"O número sendo\",num)\n",
    "print(\"Ele ao quadrado é:\",numQuad)\n",
    "print(\"Ao cubo é:\",numCub)\n",
    "print(\"E sua raiz é:\",numRaiz)"
   ]
  },
  {
   "cell_type": "markdown",
   "metadata": {},
   "source": [
    "24. Faça um programa que receba dois números maiores que zero, calcule e mostre um elevado ao outro."
   ]
  },
  {
   "cell_type": "code",
   "execution_count": null,
   "metadata": {},
   "outputs": [],
   "source": [
    "num = int(input())\n",
    "num2= int(input())\n",
    "\n",
    "num3 = num**num2\n",
    "\n",
    "print(\"O primeiro número sendo\",num)\n",
    "print(\"O segundo número sendo\",num2)\n",
    "print(\"Então\",num,\"elevado a\",num2,\"é igual a \",num3)"
   ]
  },
  {
   "cell_type": "markdown",
   "metadata": {},
   "source": [
    "25. Sabe-se que: pé = 12 polegadas; 1 jarda = 3 pés e 1 milha = 1,760 jarda. Faça um programa que receba uma medida em pés, faça as conversões a seguir e mostre os resultados.\n",
    "    1. polegadas;\n",
    "    2. jardas;\n",
    "    3. milhas."
   ]
  },
  {
   "cell_type": "code",
   "execution_count": null,
   "metadata": {},
   "outputs": [],
   "source": [
    "numPe = int(input())\n",
    "\n",
    "pePol = numPe*12\n",
    "peJarda = numPe/3\n",
    "peMilha = peJarda/1760\n",
    "\n",
    "\n",
    "print(\"O número de pés informado é de:\",numPe)\n",
    "print(\"Convertido para polegadas é:\",pePol)\n",
    "print(\"Convertido para jardas é:\", peJarda)\n",
    "print(\"Convertido para milhas é:\",peMilha)"
   ]
  },
  {
   "cell_type": "markdown",
   "metadata": {},
   "source": [
    "26. Escreva um programa que receba como entrada um número de 5 dígitos, separe o número em dígitos individuais e os imprima separados por 3 espaços cada um. Por exemplo, se o usuário digitar 42339, o programa deverá imprimir: 4    2    3    3.   Dica: utilize as operações de divisão e módulo para extrair cada dígito do número."
   ]
  },
  {
   "cell_type": "code",
   "execution_count": null,
   "metadata": {},
   "outputs": [],
   "source": [
    "num1=int(input())\n",
    "\n",
    "if num1 in range (9999,100000):\n",
    "    print(num1,\"é um número válido\")\n",
    "    numList = [int(d) for d in str(num1)]\n",
    "    print (numList[0],numList[1],numList[2],numList[3],numList[4])\n",
    "else:\n",
    "    print(\"Número não tem 5 digitos\")"
   ]
  },
  {
   "cell_type": "markdown",
   "metadata": {},
   "source": [
    "27.  A nota final de um estudante é calculada a partir de três notas atribuídas, respectivamente, a um trabalho\n",
    "de laboratório, a uma avaliação semestral e a um exame final. A média das três notas mencionadas\n",
    "obedece aos pesos a seguir:\n",
    "\n",
    "| Nota                    | Peso |\n",
    "|-------------------------|------|\n",
    "| Trabalho de Laboratório | 2    |\n",
    "| Avaliação Semestral     | 3    |\n",
    "| Exame Final             | 5    |\n",
    "\n",
    "\n",
    "Faça um programa que receba as três notas, calcule e mostre a média ponderada e o conceito que segue\n",
    "a tabela:\n",
    "\n",
    "| Média Ponderada        | Conceito |\n",
    "|------------------------|----------|\n",
    "| 8,00 <= Média <= 10,00 | A        |\n",
    "| 7,00 <= Média < 8,00   | B        |\n",
    "| 6,00 <= Média < 7,00   | C        |\n",
    "| 5,00 <= Média < 6,00   | D        |\n",
    "| 0,00 <= Média < 5,00   | E        |"
   ]
  },
  {
   "cell_type": "code",
   "execution_count": null,
   "metadata": {},
   "outputs": [],
   "source": [
    "print(\"Digite a nota Trabalho de Laboratório\")\n",
    "nota1=int(input())\n",
    "print(\"Digite a nota Avaliação Semestral\")\n",
    "nota2=int(input())\n",
    "print(\"Digite a nota do Exame Final\")\n",
    "nota3=int(input())\n",
    "\n",
    "peso1=2\n",
    "peso2=3\n",
    "peso3=5\n",
    "\n",
    "pesoGeral = peso1+peso2+peso3\n",
    "\n",
    "nota3Pond = nota3*peso3\n",
    "nota2Pond = nota2*peso2\n",
    "nota1Pond = nota1*peso1\n",
    "\n",
    "soma = nota3Pond+nota2Pond+nota1Pond\n",
    "\n",
    "mediaPond = soma/pesoGeral\n",
    "\n",
    "if mediaPond < 10 and mediaPond > 8:\n",
    "    print(\"Conceito:A\")\n",
    "elif mediaPond < 8 and mediaPond > 7:\n",
    "    print(\"Conceito:B\")\n",
    "elif mediaPond < 7 and mediaPond > 6:\n",
    "    print(\"Conceito:C\")\n",
    "elif mediaPond < 6 and mediaPond > 5:\n",
    "    print(\"Conceito:D\")\n",
    "elif mediaPond <5:\n",
    "    print(\"Conceito: E\")\n",
    "    "
   ]
  },
  {
   "cell_type": "markdown",
   "metadata": {},
   "source": [
    "28. Faça um programa que receba três notas de um aluno, calcule e mostre a média aritmética e a mensagem constante na tabela a seguir. \n",
    "\n",
    "| Média                  | Situação       |\n",
    "|------------------------|----------------|\n",
    "| 7,00 <= Média <= 10,00 | Aprovado       |\n",
    "| 3,00 <= Média < 7,00   | Exame Especial |\n",
    "| 0,00 <= Média < 3,00   | Reprovado      |"
   ]
  },
  {
   "cell_type": "code",
   "execution_count": null,
   "metadata": {},
   "outputs": [],
   "source": [
    "print(\"Digite a primeira nota\")\n",
    "nota1=int(input())\n",
    "print(\"Digite a segunda nota\")\n",
    "nota2=int(input())\n",
    "print(\"Digite a terceira nota\")\n",
    "nota3=int(input())\n",
    "\n",
    "soma = nota1+nota2+nota3\n",
    "\n",
    "media = soma/3\n",
    "\n",
    "\n",
    "\n",
    "if media < 10 and media > 7:\n",
    "    print(media)\n",
    "    print(\"Aprovado\")\n",
    "elif media < 7 and media > 3:\n",
    "    print(media)\n",
    "    print(\"Exame Especial\")\n",
    "elif media <3:\n",
    "    print(media)\n",
    "    print(\"Reprovado\")\n",
    "    \n",
    "\n",
    "\n"
   ]
  },
  {
   "cell_type": "markdown",
   "metadata": {},
   "source": [
    "29. Faça um programa para resolver equações do 2º grau.\n",
    "\n",
    "$$\n",
    "a^{2} + bx + c = 0\n",
    "$$\n",
    "\n",
    "\n",
    "Onde x é uma variável, sendo a, b e c constantes, com a ≠ 0 \n",
    "\n",
    "\n",
    "$$\n",
    "\\Delta = b^{2} - 4ac\n",
    "$$\n",
    "\n",
    "$$\n",
    "\\Delta < 0 \\rightarrow não \\: existe  \\: raiz  \\: real\n",
    "$$\n",
    "\n",
    "$$\n",
    "\\Delta = 0 \\rightarrow  existe  \\: raiz  \\: real\n",
    "$$\n",
    "\n",
    "$$\n",
    "x = \\frac{-b}{2a}\n",
    "$$\n",
    "\n",
    "\n",
    "\n",
    "$$\n",
    "\\Delta > 0 \\rightarrow existem \\: duas  \\: raizes  \\: reais\n",
    "$$\n",
    "\n",
    "\n",
    "$$\n",
    "x_1 = \\frac{-b \\: + \\: \\sqrt{\\Delta } }{2a}\n",
    "$$\n",
    "\n",
    "$$\n",
    "x_2 = \\frac{-b \\: - \\: \\sqrt{\\Delta } }{2a}\n",
    "$$"
   ]
  },
  {
   "cell_type": "code",
   "execution_count": null,
   "metadata": {},
   "outputs": [],
   "source": [
    "import math\n",
    "\n",
    "a = int(input(\"Digite o valor de A:  \"))\n",
    "b = int(input(\"Digite o valor de B:  \"))\n",
    "c = int(input(\"Digite o valor de C:  \"))\n",
    "\n",
    "d = b**2-4*a*c \n",
    "\n",
    "if d < 0:\n",
    "    print (\"Não existe raiz real\")\n",
    "elif d == 0:\n",
    "    (-b + math.sqrt(b**2 - 4*a*c)) / (2 * a)\n",
    "    print (\"Existe uma raiz real: \", x)\n",
    "else:\n",
    "    x1 = (-b+math.sqrt(b**2-4*a*c))/2*a\n",
    "    x2 = (-b-math.sqrt(b**2-4*a*c))/2*a\n",
    "    print (\"Existem duas raizes reais \", x1, \" and\", x2)"
   ]
  },
  {
   "cell_type": "markdown",
   "metadata": {},
   "source": [
    "30. Faça um programa que receba vários números, calcule e mostre:\n",
    "\n",
    "    - A soma dos números digitados;\n",
    "    - A quantidade de números digitados;\n",
    "    - A média dos números digitados;\n",
    "    - O maior número digitado;\n",
    "    - O menor número digitado;\n",
    "    - A média dos números pares;\n",
    "    - A porcentagem dos números ímpares entre todos os números digitados.\n",
    "\n",
    "Finalize a entrada de dados com a digitação do número 0."
   ]
  },
  {
   "cell_type": "code",
   "execution_count": null,
   "metadata": {},
   "outputs": [],
   "source": [
    "nums=[]\n",
    "num = 122\n",
    "soma = 0\n",
    "menor = 99999999999999999\n",
    "maior = 0 \n",
    "pares = []\n",
    "impares = []\n",
    "somaPares = 0\n",
    "mediaPares = 0\n",
    "percentImp = 0\n",
    "\n",
    "while True:\n",
    "    num = int(input())\n",
    "    if num == 0:\n",
    "        break\n",
    "    nums.append(num)\n",
    "    print(nums)\n",
    "    \n",
    "for num in nums:\n",
    "    soma = soma + num  \n",
    "    if num > maior:\n",
    "        maior = num\n",
    "    if num < menor:\n",
    "        menor = num\n",
    "    if num%2 == 0:\n",
    "        pares.append(num)\n",
    "        somaPares = somaPares + num\n",
    "    else:\n",
    "        impares.append(num)\n",
    "\n",
    "percentImp = 100*len(impares)/len(nums)\n",
    "print(f\"Porcentagem de números impares é: {percentImp}\")\n",
    "print(f\"A média de números pares é:{somaPares/len(pares)}\")\n",
    "print(\"A soma dos números inputados é:\",soma)\n",
    "print(\"O menor número inputado foi: \", menor)\n",
    "print(\"O maior número inputado foi: \", maior)\n",
    "print(\"A quantidade de número digitados foi :\",len(nums))\n",
    "print(\"A média dos número digitados é\", soma/len(nums))"
   ]
  },
  {
   "cell_type": "markdown",
   "metadata": {},
   "source": [
    "31. Foi realizada uma pesquisa sobre algumas características físicas dos habitantes de uma região. Foram coletados os seguintes dados de cada habitante: sexo, cor dos olhos (A — azuis; ou C — castanhos), cor dos cabelos (L — louros; P — pretos; ou C — castanhos) e idade. Implemente os seguintes métodos:\n",
    "\n",
    "    1. `leia_dados()`: leia esses dados, armazene e retorne os dados em uma lista;\n",
    "    2. `media_idades(dados)`: calcula e retorne a média de idade das pessoas com olhos castanhos e cabelos pretos;\n",
    "    3. `maior_idade(dados)`: determina e retorne a maior idade entre os habitantes;\n",
    "    4. `frequencia_individuos(dados)`: calcula e retorna a quantidade de indivíduos do sexo feminino com idade entre 18 e 35 anos (inclusive) e que tenham olhos azuis e cabelos louros."
   ]
  },
  {
   "cell_type": "code",
   "execution_count": null,
   "metadata": {},
   "outputs": [],
   "source": [
    "class Dados:\n",
    "     sexo=[\"F\",\"M\",\"F\",\"M\",\"M\",\"M\",\"F\",\"F\",\"F\",\"F\",\"M\",\"F\",\"M\",\"M\",\"M\",\"F\",\"F\",\"F\",\"F\",\"M\",\"F\",\"M\",\"F\",\"F\",\"M\",\"F\",\"M\"]\n",
    "     idade = [19,33,43,12,44,65,88,43,22,28,41,59,33,41,32,65,34,22,32,54,17,25,13,12,44,65,12]\n",
    "     corCabelo = [\"L\",\"P\",\"L\",\"L\",\"P\",\"C\",\"P\",\"P\",\"P\",\"P\",\"P\",\"P\",\"P\",\"L\",\"L\",\"P\",\"C\",\"C\",\"L\",\"L\",\"C\",\"P\",\"C\",\"C\",\"P\",\"L\",\"L\",]\n",
    "     corOlhos = [\"A\",\"A\",\"C\",\"A\",\"C\",\"C\",\"C\",\"A\",\"C\",\"C\",\"C\",\"C\",\"A\",\"A\",\"A\",\"A\",\"C\",\"C\",\"C\",\"C\",\"C\",\"C\",\"C\",\"A\",\"A\",\"C\",\"A\",]\n",
    "     soma = 0 \n",
    "     contador=0\n",
    "     media = 0\n",
    "\n",
    "\n",
    "     def listar_dados(self):\n",
    "         for sexo, idade, cabelo, olhos in zip(self.sexo, self.idade, self.corCabelo, self.corOlhos):\n",
    "             print (\"sexo:\",sexo,\"Cor do cabelo:\",cabelo,\"Cor dos olhos:\",olhos,\"Idade:\",idade)\n",
    "\n",
    "     def  media_idades(self):\n",
    "        for idade, cabelo, olhos in zip(self.idade,self.corCabelo,self.corOlhos):\n",
    "            if cabelo == \"P\" and olhos == \"C\":\n",
    "                self.contador=self.contador+1\n",
    "                self.soma=self.soma+idade\n",
    "                self.media=self.soma/self.contador     \n",
    "\n",
    "        print(self.media)            \n",
    "     \n",
    "     def maior_idade(self):\n",
    "         x=0\n",
    "         for idade2 in (self.idade):\n",
    "             if idade2 > x:\n",
    "                 x = idade2\n",
    "         print(x)        \n",
    "\n",
    "     def  frequencia_individuos(self):\n",
    "         conta = 0\n",
    "         for sexo,idade,olhos,cabelo in zip(self.sexo,self.idade,self.corOlhos,self.corCabelo):\n",
    "             if sexo == \"F\" and olhos == \"A\" and cabelo ==\"L\" and idade in range(18,35):\n",
    "                 conta = conta+1\n",
    "         print(conta)         \n",
    "                    \n",
    "\n",
    "\n",
    "\n",
    "Dados = Dados()\n",
    "Dados.listar_dados()\n",
    "Dados.maior_idade()\n",
    "Dados.media_idades()\n",
    "Dados.frequencia_individuos()"
   ]
  },
  {
   "cell_type": "markdown",
   "metadata": {},
   "source": [
    "32. Faça o método `analisa_numeros(numeros)` que receba uma lista de números como parâmetro, calcule e mostre:\n",
    "\n",
    "    1. A Soma dos números;\n",
    "    2. A quantidade de números;\n",
    "    3. A média dos números;\n",
    "    4. O maior número;\n",
    "    5. O menor número;\n",
    "    6. A média dos números pares;\n",
    "    7. A porcentagem dos números ímpares entre todos os números da lista."
   ]
  },
  {
   "cell_type": "code",
   "execution_count": null,
   "metadata": {},
   "outputs": [],
   "source": [
    "class Dados:  \n",
    "     numeros = [123,444,1231,4656,3241,3215,39745,972,135,2,33215,9,33,43,12,44,65,88,43,22,28,41,59,33,41,32,65,34,22,32,54,17,25,13,12,44,65,12]\n",
    "     contaImpar =0\n",
    "     somaPar=0\n",
    "     contaPar = 0\n",
    "     conta=0\n",
    "     soma = 0\n",
    "     media = 0\n",
    "     maior = 0\n",
    "     menor = 99999999\n",
    "     mediaPares = 0\n",
    "     percentImpar = 0\n",
    "\n",
    "     def analisa_numeros(self):\n",
    "         for numero in (self.numeros):\n",
    "             self.conta = self.conta+1\n",
    "             self.soma = self.soma+numero\n",
    "             if numero%2==0:\n",
    "                self.contaPar = self.contaPar+1\n",
    "                self.somaPar = self.somaPar + numero\n",
    "             if numero%3==0:\n",
    "                self.contaImpar = self.contaImpar +1\n",
    "             if numero > self.maior:\n",
    "                 self.maior=numero\n",
    "             if numero < self.menor:\n",
    "                 self.menor = numero\n",
    "                  \n",
    "         self.media = self.soma/self.conta        \n",
    "         self.percentImpar = self.contaImpar*100/len(self.numeros)        \n",
    "         self.mediaPares = self.somaPar/self.contaPar     \n",
    "         print(f\"Soma:{self.soma}\\nQuantidade de números:{self.conta}\\nMédias de números pares:{self.mediaPares}\\nPorcentagem de Impares: {self.percentImpar}\\nMedia dos números:{self.media}\\nMaior Número:{self.maior},\\nMenor número: {self.menor}\")\n",
    "     \n",
    "     \n",
    "a=Dados()   \n",
    "\n",
    "a.analisa_numeros()\n",
    "\n"
   ]
  },
  {
   "cell_type": "markdown",
   "metadata": {},
   "source": [
    "33. Uma empresa quer transmitir dados pelo telefone, mas está preocupada com a interceptação telefônica. Todos os seus dados são transmitidos  como inteiros de quatro dígitos. Ela pediu para que você escreva um programa que criptografe seus dados, para que eles possam ser transmitidos com mais segurança. Implemente a função `criptogra(numero)` que receba como parâmetro um número inteiro de quatro dígitos e criptografe-o da seguinte forma: \n",
    "\n",
    "    * Substitua cada um dos dígitos do número usando a seguinte fórmula: `(digito +  7) módulo 10`; \n",
    "    * Após a substituição, troque o primeiro dígito pelo terceiro e troque o segundo dígito pelo quarto;\n",
    "    * Retorne o número inteiro criptografado."
   ]
  },
  {
   "cell_type": "code",
   "execution_count": null,
   "metadata": {},
   "outputs": [],
   "source": [
    "def criptografia(numero):\n",
    "    print(lista)\n",
    "    numNovo=[]\n",
    "    lista=[]\n",
    "    lista = list(numero)\n",
    "    for num in(lista):\n",
    "        num = int(num) + 7\n",
    "        if num > 10:\n",
    "            num = num%10\n",
    "    numNovo.append(num)\n",
    "    numNovo[0],numNovo[2]= numNovo[2],numNovo[0] \n",
    "    numNovo[1],numNovo[3]=numNovo[3],numNovo[1]\n",
    "    \n",
    "    return numNovo"
   ]
  }
 ],
 "metadata": {
  "kernelspec": {
   "display_name": "Python 3",
   "language": "python",
   "name": "python3"
  },
  "language_info": {
   "codemirror_mode": {
    "name": "ipython",
    "version": 3
   },
   "file_extension": ".py",
   "mimetype": "text/x-python",
   "name": "python",
   "nbconvert_exporter": "python",
   "pygments_lexer": "ipython3",
   "version": "3.10.3"
  }
 },
 "nbformat": 4,
 "nbformat_minor": 4
}
